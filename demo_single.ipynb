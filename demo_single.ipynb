{
 "cells": [
  {
   "cell_type": "code",
   "execution_count": null,
   "metadata": {},
   "outputs": [],
   "source": [
    "import os, logging\n",
    "import numpy as np\n",
    "import pandas as pd\n",
    "import tensorflow as tf\n",
    "from keras import backend as K\n",
    "from keras.layers import Input, Concatenate, Activation, BatchNormalization, Dropout, Conv1D\n",
    "from keras import optimizers, callbacks, initializers, constraints, regularizers\n",
    "from keras.models import Model\n",
    "from libs.hydrolayer import PhyRNNLayer, Conv1Layer, Conv2Layer, ScaleLayer\n",
    "from libs.hydrodata import DataforIndividual\n",
    "from libs import hydroutils\n",
    "from datetime import datetime\n",
    "from matplotlib import pyplot as plt\n",
    "\n",
    "## Ignore all the warnings\n",
    "tf.get_logger().setLevel(logging.ERROR)\n",
    "os.environ['TF_CPP_MIN_LOG_LEVEL'] = '2'\n",
    "os.environ['KMP_WARNINGS'] = '0'"
   ]
  },
  {
   "cell_type": "code",
   "execution_count": null,
   "metadata": {},
   "outputs": [],
   "source": [
    "working_path = '/home/shijie/phydeep'\n",
    "basin_id = '01013500'\n",
    "####\n",
    "training_start = '1980-10-01'\n",
    "training_end= '2000-09-30'\n",
    "####\n",
    "val_start = '1999-10-01'\n",
    "val_end= '2010-09-30'\n",
    "####\n",
    "testing_start = '2000-10-01'\n",
    "testing_end= '2010-09-30'"
   ]
  },
  {
   "cell_type": "code",
   "execution_count": null,
   "metadata": {},
   "outputs": [],
   "source": [
    "def generate_train_test(train_set, val_set, test_set, wrap_length=1825):\n",
    "    train_x_np = train_set.values[:, :-1]\n",
    "    train_y_np = train_set.values[:, -1:]\n",
    "    test_x_np = test_set.values[:, :-1]\n",
    "    test_y_np = test_set.values[:, -1:]\n",
    "    val_x_np = val_set.values[:, :-1]\n",
    "    val_y_np = val_set.values[:, -1:]\n",
    "    \n",
    "    \n",
    "    wrap_number_train = (train_set.shape[0]-wrap_length)//365 + 1\n",
    "    wrap_number_val = (val_set.shape[0]-wrap_length)//365 + 1\n",
    "    \n",
    "    train_x = np.empty(shape = (wrap_number_train, wrap_length, train_x_np.shape[1]))\n",
    "    train_y = np.empty(shape = (wrap_number_train, wrap_length, train_y_np.shape[1]))\n",
    "    val_x = np.empty(shape = (wrap_number_val, wrap_length, val_x_np.shape[1]))\n",
    "    val_y = np.empty(shape = (wrap_number_val, wrap_length, val_y_np.shape[1])) \n",
    "    test_x = np.expand_dims(test_x_np, axis=0)\n",
    "    test_y = np.expand_dims(test_y_np, axis=0)\n",
    "    \n",
    "    for i in range(wrap_number_train):\n",
    "        train_x[i, :, :] = train_x_np[i*365:(wrap_length+i*365), :]\n",
    "        train_y[i, :, :] = train_y_np[i*365:(wrap_length+i*365), :]\n",
    "\n",
    "    for i in range(wrap_number_val):\n",
    "        val_x[i, :, :] = val_x_np[i*365:(wrap_length+i*365), :]\n",
    "        val_y[i, :, :] = val_y_np[i*365:(wrap_length+i*365), :]        \n",
    "        \n",
    "    return train_x, train_y,val_x,val_y,  test_x, test_y\n",
    "\n",
    "def create_model(input_shape, seed, hidden_nodes):\n",
    "    x_input = Input(shape=input_shape, name='Input')\n",
    "    hydro = PhyRNNLayer(mode= 'normal', name='Hydro')(x_input)\n",
    "    \n",
    "    x_hydro = Concatenate(axis=-1, name='Concat')([x_input, hydro])\n",
    "    x_scale = ScaleLayer(with_centering=False, with_scaling=False, name='Scale')(x_hydro)\n",
    "    \n",
    "    output = Conv1Layer(filters=hidden_nodes, kernel_size=1, padding='causal', seed=seed, name='Conv1')(x_scale)\n",
    "    output = Conv2Layer(filters=1, kernel_size=10, padding='causal', seed=seed, name='Conv2')(output)\n",
    "\n",
    "    model = Model(x_input, hydro)\n",
    "    return model\n",
    "\n",
    "def train_model(model, train_x, train_y, val_x, val_y, ep_number, lrate, save_path):\n",
    "    save = callbacks.ModelCheckpoint(save_path, verbose=0, save_best_only=True, monitor='nse_metrics', mode='max',\n",
    "                                     save_weights_only=True)\n",
    "    es = callbacks.EarlyStopping(monitor='nse_metrics', mode='max', verbose=1, patience=20, min_delta=0.0005,\n",
    "                                 restore_best_weights=True)\n",
    "    reduce = callbacks.ReduceLROnPlateau(monitor='nse_metrics', factor=0.8, patience=5, verbose=1, mode='max',\n",
    "                                         min_delta=0.0005, cooldown=0, min_lr=lrate / 100)\n",
    "    tna = callbacks.TerminateOnNaN()\n",
    "\n",
    "    model.compile(loss=hydroutils.nse_loss, metrics=[hydroutils.nse_metrics], optimizer=optimizers.Adam(lr=lrate))\n",
    "    history = model.fit(train_x, train_y, epochs=ep_number, batch_size=10000, callbacks=[save, es, reduce, tna],\n",
    "                       validation_data=[val_x, val_y])\n",
    "    \n",
    "    return history\n",
    "    \n",
    "def test_model(model, test_x, test_y, save_path):\n",
    "    model.load_weights(save_path, by_name=True)\n",
    "    pred_y = model.predict(test_x, batch_size=10000)\n",
    "    \n",
    "    return pred_y\n",
    "\n",
    "def calc_nse(obs: np.array, sim: np.array) -> float:\n",
    "    denominator = np.sum((obs - np.mean(obs)) ** 2)\n",
    "    numerator = np.sum((sim - obs) ** 2)\n",
    "    nse_val = 1 - numerator / denominator\n",
    "\n",
    "    return nse_val"
   ]
  },
  {
   "cell_type": "code",
   "execution_count": null,
   "metadata": {},
   "outputs": [],
   "source": [
    "hydrodata = DataforIndividual(working_path, basin_id).load_data()\n",
    "\n",
    "train_set = hydrodata[hydrodata.index.isin(pd.date_range(training_start, training_end))]\n",
    "val_set = hydrodata[hydrodata.index.isin(pd.date_range(val_start, val_end))]\n",
    "test_set = hydrodata\n",
    "\n",
    "train_x, train_y,val_x,val_y,  test_x, test_y = generate_train_test(train_set,val_set, test_set, wrap_length=1825)"
   ]
  },
  {
   "cell_type": "code",
   "execution_count": null,
   "metadata": {},
   "outputs": [],
   "source": [
    "#####\n",
    "train_x_mean = train_set.mean()[:-1].values\n",
    "train_y_mean = train_set.mean()[-1:].values\n",
    "train_x_std = train_set.std()[:-1].values\n",
    "train_y_std = train_set.std()[-1:].values\n",
    "#####\n",
    "train_x_np = (train_set.values[:, :-1] - train_x_mean) / train_x_std\n",
    "train_y_np = (train_set.values[:, -1:] - train_y_mean) / train_y_std\n",
    "test_x_np = (test_set.values[:, :-1] - train_x_mean) / train_x_std\n",
    "test_y_np = (test_set.values[:, -1:] - train_y_mean) / train_y_std\n",
    "\n",
    "plt.plot(test_y_np[:,0])"
   ]
  },
  {
   "cell_type": "code",
   "execution_count": null,
   "metadata": {},
   "outputs": [],
   "source": [
    "model = create_model((train_x.shape[1], train_x.shape[2]), 200, 32)\n",
    "model.summary()"
   ]
  },
  {
   "cell_type": "code",
   "execution_count": null,
   "metadata": {
    "scrolled": true
   },
   "outputs": [],
   "source": [
    "save_path = f'{working_path}/{basin_id}.h5'\n",
    "history = train_model(model, train_x, train_y, val_x, val_y, 500, 0.01, save_path)"
   ]
  },
  {
   "cell_type": "code",
   "execution_count": null,
   "metadata": {},
   "outputs": [],
   "source": []
  },
  {
   "cell_type": "code",
   "execution_count": null,
   "metadata": {},
   "outputs": [],
   "source": [
    "save_path = '{0}/{1}/{2}.h5'.format(working_path, 'single_results/white_model', basin_id)\n",
    "\n",
    "x_input = Input(shape=(test_x.shape[1], test_x.shape[2]), name='Input')\n",
    "hydro = PhyRNNLayer(mode= 'normal', name='Hydro')(x_input)\n",
    "\n",
    "x_hydro = Concatenate(axis=-1, name='Concat')([x_input, hydro])\n",
    "x_scale = ScaleLayer(with_centering=False, with_scaling=False, name='Scale')(x_hydro)\n",
    "\n",
    "output = Conv1Layer(filters=16, kernel_size=1, padding='causal', seed=200, name='Conv1')(x_scale)\n",
    "output = Conv2Layer(filters=1, kernel_size=10, padding='causal', seed=200, name='Conv2')(output)\n",
    "\n",
    "model_for_test = Model(x_input, hydro)\n",
    "\n",
    "pred_y = test_model(model_for_test, test_x, test_y, save_path)\n"
   ]
  },
  {
   "cell_type": "code",
   "execution_count": null,
   "metadata": {},
   "outputs": [],
   "source": [
    "evaluate_set = test_set.loc[:, ['prcp(mm/day)','flow(mm)']]\n",
    "evaluate_set['flow_obs'] = evaluate_set['flow(mm)']\n",
    "evaluate_set['flow_sim'] = np.clip(pred_y[0, :, :], a_min = 0, a_max = None)\n",
    "\n",
    "####\n",
    "training_start = '1980-10-01'\n",
    "training_end= '2000-09-30'\n",
    "####\n",
    "testing_start = '2000-10-01'\n",
    "testing_end= '2010-09-30'\n",
    "\n",
    "date_range = pd.date_range(testing_start, testing_end)\n",
    "evaluate_set = evaluate_set[evaluate_set.index.isin(date_range)]\n",
    "nse = calc_nse(evaluate_set['flow_obs'].values, evaluate_set['flow_sim'].values)\n",
    "\n",
    "plot_set = evaluate_set[evaluate_set.index.isin(pd.date_range(training_start, testing_end))]\n",
    "fig, ax = plt.subplots(figsize=(15, 4.5))\n",
    "\n",
    "ax.plot(plot_set['flow_sim'], label=\"simulation\")\n",
    "ax.plot(plot_set['flow_obs'], label=\"observation\")\n",
    "\n",
    "\n",
    "ax.set_title(f\"Basin {basin_id} - Test set NSE: {nse:.3f}\")\n",
    "ax.set_ylabel(\"Streamflow (mm/day)\")\n",
    "ax.legend()\n",
    "plt.show()"
   ]
  },
  {
   "cell_type": "code",
   "execution_count": null,
   "metadata": {},
   "outputs": [],
   "source": [
    "plt.plot(pred_y[0, :, 3], label=\"observation\")"
   ]
  },
  {
   "cell_type": "code",
   "execution_count": null,
   "metadata": {},
   "outputs": [],
   "source": [
    "model.get_weights()[0:12]"
   ]
  },
  {
   "cell_type": "code",
   "execution_count": null,
   "metadata": {},
   "outputs": [],
   "source": [
    "(0.71950805*1900+100)"
   ]
  },
  {
   "cell_type": "code",
   "execution_count": null,
   "metadata": {},
   "outputs": [],
   "source": []
  },
  {
   "cell_type": "code",
   "execution_count": null,
   "metadata": {},
   "outputs": [],
   "source": []
  }
 ],
 "metadata": {
  "kernelspec": {
   "display_name": "Python 3",
   "language": "python",
   "name": "python3"
  },
  "language_info": {
   "codemirror_mode": {
    "name": "ipython",
    "version": 3
   },
   "file_extension": ".py",
   "mimetype": "text/x-python",
   "name": "python",
   "nbconvert_exporter": "python",
   "pygments_lexer": "ipython3",
   "version": "3.6.10"
  }
 },
 "nbformat": 4,
 "nbformat_minor": 2
}
